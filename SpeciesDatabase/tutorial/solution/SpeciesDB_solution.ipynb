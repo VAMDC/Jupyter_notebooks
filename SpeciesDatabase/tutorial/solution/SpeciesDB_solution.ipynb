{
  "nbformat": 4,
  "nbformat_minor": 0,
  "metadata": {
    "colab": {
      "provenance": [],
      "include_colab_link": true
    },
    "kernelspec": {
      "name": "python3",
      "display_name": "Python 3"
    },
    "language_info": {
      "name": "python"
    }
  },
  "cells": [
    {
      "cell_type": "markdown",
      "metadata": {
        "id": "view-in-github",
        "colab_type": "text"
      },
      "source": [
        "<a href=\"https://colab.research.google.com/github/VAMDC/Jupyter_notebooks/blob/main/SpeciesDatabase/tutorial/solution/SpeciesDB_solution.ipynb\" target=\"_parent\"><img src=\"https://colab.research.google.com/assets/colab-badge.svg\" alt=\"Open In Colab\"/></a>"
      ]
    },
    {
      "cell_type": "markdown",
      "source": [
        "![site-logo-223x68.png](data:image/png;base64,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)\n",
        "\n",
        "# Python interaction with the VAMDC species database\n",
        "\n",
        "In this notebook we'll look at how to interact with the VAMDC infrastructure to retrieve atomic and chemical information.\n",
        "\n",
        "To to this, let us define the different REST-API endpoints:\n"
      ],
      "metadata": {
        "id": "PAUkcQawdZwe"
      }
    },
    {
      "cell_type": "markdown",
      "source": [
        "\n",
        "\n",
        "---\n",
        "\n",
        "\n",
        "- **metadata** - [https://species.vamdc.org/web-service/api/v12.07/metadata](https://species.vamdc.org/web-service/api/v12.07/metadata), which resolves to a Json object containing some statistics: the number of active *data-nodes* (i.e. the number of VAMDC federated databases that have been tagged as valid during the curation phase), the date of the most recent execution of the ingestion script, the total number of unique species indexed in the Species Database.\n",
        "    ```json\n",
        "    {\n",
        "     \"nodesCount\": \"33\",\n",
        "     \"lastUpdate\": \"2023-11-20\",\n",
        "     \"speciesCount\": \"2770\"\n",
        "    }\n",
        "    ```\n",
        "    \n",
        "\n",
        "---\n",
        "\n",
        "\n"
      ],
      "metadata": {
        "id": "kbtYWh4y74Jf"
      }
    },
    {
      "cell_type": "markdown",
      "source": [
        "\n",
        "\n",
        "---\n",
        "\n",
        "\n",
        "- **nodes** - [https://species.vamdc.org/web-service/api/v12.07/nodes](https://species.vamdc.org/web-service/api/v12.07/nodes), which resolves to a JSON list containing the *data-node* information stored in the Species Database. An example of the structure of the output produced by this service is provided in the following listing, which displays information for the Basecol *data-node*: *shortName* is the human-readable name of the *data-node*, *description* is its concise description, *contactEmail* is the e-mail of its technical maintainer, *ivoIdentifier* is its IVOID (cf. Table 1), *referenceUrl* is the link to the official database website, and *lastUpdate* is the date of the most recent execution of the ingestion script, which updates the information and builds the list of *topics*. We recall that the information for this example is extracted from the Basecol Registry entry during the ingestion phase.\n",
        "    ```json\n",
        "   [\n",
        "    {\n",
        "        \"shortName\": \"BASECOL2015: VAMDC-TAP interface\",\n",
        "        \"description\": \"\",\n",
        "        \"contactEmail\": \"yaye-awa.ba@obspm.fr\",\n",
        "        \"ivoIdentifier\": \"ivo://vamdc/basecol2015/vamdc-tap\",\n",
        "        \"referenceUrl\": \"https://basecol.vamdc.org/\",\n",
        "        \"lastUpdate\": \"2023-11-20 03:00:10\",\n",
        "        \"topics\": [\n",
        "            \"Atomic states\",\n",
        "            \"Atoms\",\n",
        "            \"Collisions\",\n",
        "            \"Molecular states\",\n",
        "            \"Molecules\"\n",
        "        ]\n",
        "    },\n",
        "    ...\n",
        "   ]\n",
        "  \n",
        "\n",
        "---\n",
        "\n"
      ],
      "metadata": {
        "id": "eEgnIRLe87OB"
      }
    },
    {
      "cell_type": "markdown",
      "source": [
        "\n",
        "\n",
        "---\n",
        "\n",
        "\n",
        "\n",
        "- **species** - [https://species.vamdc.org/web-service/api/v12.07/species](https://species.vamdc.org/web-service/api/v12.07/species), which resolves to a Json list containing all the species gathered from all the federated databases. The following listing  gives an example of the structure of the produced output, obtained while hitting this endpoint:\n",
        "\n",
        "    - each text strings starting with *ivo* is a *data-node* unique identifier. We naturally use the same node-identifiers defined into the VAMDC registry.\n",
        "    - The value associated with each *data-node* identifier is the list of the chemical species for which there is (or there have been) data available in the *data-node*.\n",
        "    - The description of each chemical species consists of its InchI/InChIKey, its stoichiometric formula and formula (this last field is null for atoms and consists of a string notation that shows the isotopes and number of atoms in a molecule), mass number, species type (this field may take one of the three *atom, molecule, particle* values), electric charge, species name (in natural language). The two dates associated with the field *lastSeenDateTime* are respectively the last time the ingestion script has been executed and the last time the species was available in the *data-node*. Indeed, some data may be deleted/changed inside *data-nodes* and, as a consequence, some chemical species may no longer be available. The Species Database keeps track of the availability of all the species over time.\n",
        "\n",
        "\n",
        "```json\n",
        " \"ivo://vamdc/amdis-ionization\": [\n",
        "        {\n",
        "            \"InChI\": \"InChI=1S/H/q-1\",\n",
        "            \"InChIKey\": \"KLGZELKXQMTEMM-UHFFFAOYSA-N\",\n",
        "            \"stoichiometricFormula\": \"H\",\n",
        "            \"massNumber\": 1,\n",
        "            \"charge\": -1,\n",
        "            \"speciesType\": \"atom\",\n",
        "            \"formula\": \"None\",\n",
        "            \"name\": \"Hydrogen negative ion -1\",\n",
        "            \"did\": \"KLGZELKXQMTEMM-UHFFFAOYSA-N\",\n",
        "            \"lastSeenDateTime\": \"2023-11-20 $\\mid \\mid$ 2023-11-20\"\n",
        "        },  \n",
        "        {\n",
        "            ...\n",
        "        }\n",
        "    ],\n",
        "    \"ivo://vamdc/sesam/tap-xsams\": [\n",
        "        {\n",
        "            \"InChI\": \"InChI=1S/H2/h1H\",\n",
        "            \"InChIKey\": \"UFHFLCQGNIYNRP-UHFFFAOYSA-N\",\n",
        "            \"stoichiometricFormula\": \"H2\",\n",
        "            \"massNumber\": 2,\n",
        "            \"charge\": 0,\n",
        "            \"speciesType\": \"molecule\",\n",
        "            \"formula\": \"H2\",\n",
        "            \"name\": \"Dihydrogen\\n\",\n",
        "            \"did\": \"UFHFLCQGNIYNRP-UHFFFAOYSA-N\",\n",
        "            \"lastSeenDateTime\": \"2023-11-20 $\\mid \\mid$ 2023-11-20\"\n",
        "        },\n",
        "        {\n",
        "            ...\n",
        "        }\n",
        "    ]    \n",
        "    }\n",
        "```\n",
        "\n",
        "The **species** endpoint may take some additional parameters to refine the\n",
        "\n",
        "search and filter the results. The following table describes those searching parameters, along with the operation they induce on the behavior of the API. The refined API-call may be composed as follows:\n",
        "\n",
        "[https://species.vamdc.org/web-service/api/v12.07/species?P_1=V_1&P_2=V_2&...&P_N=V_N](https://species.vamdc.org/web-service/api/v12.07/species?P_1=V_1&P_2=V_2&...&P_N=V_N) , where:\n",
        "\n",
        "- $N \\in [0,11]$. The value $0$ means that no optional parameter is provided. The value $11$ is the number of rows of [SpeciesParams]the following table and $N=11$ means that all the optional parameters are provided.\n",
        "- $P_i$, $i \\in [1,N]$ for $N \\ge 1$, is the parameter at the $i^{th}$ row of the following table.\n",
        "- $V_i$ is the value taken by $P_i$. It must satisfy the constraint expressed in the second column of the following table at row $i$.\n",
        "\n",
        "| Parameter              | Authorized type/values                | API functionality                                                                                                      |\n",
        "|------------------------|---------------------------------------|------------------------------------------------------------------------------------------------------------------------|\n",
        "| stoichiometric_formula | String                                | Restriction to the results where the stoichiometric formula is equal to the user provided value                        |\n",
        "| mass_min               | Positive Integer                      | Restriction to the results having $massNumber \\geq mass\\_min$ {$^\\dagger$}                                               |\n",
        "| mass_max               | Positive Integer                      | Restriction to the results having $massNumber \\leq mass\\_max$ {$^\\dagger$}                                               |\n",
        "| charge_min             | Integer                               | Restriction to the results having $charge \\geq charge\\_min$ {$^\\star$}                                                   |\n",
        "| charge_max             | Integer                               | Restriction to the results having $charge \\leq charge\\_max$ {$^\\star$}                                                   |\n",
        "| type                   | String $\\in \\mathcal S :=\\{$ \"atom\", \"molecule\", \"particle\" $\\}$ | Restriction the results where the {\\it type} is equal to the user provided value. If the provided string $s \\notin \\mathcal S$, a JSON object describing the error is returned |\n",
        "| ivo_identifier         | String                                | Restriction to the results having the {\\it data-node} identifier (IVOID) equal to the user provided value              |\n",
        "| inchikey               | String                                | Restriction to the results where having the {\\it InChIKey} equal to the user provided value                            |\n",
        "| name                   | String                                | Restriction to the results where having the {\\it name} equal to the user provided value                                 |\n",
        "| formula                | String                                | Restriction to the results where having the {\\it formula} equal to the user provided value                              |\n",
        "| text_search            | String                                | Restriction to the results having at least a portion of one of the five fields {\\it stoichiometric_formula, formula, name, InChi, inchikey} equal to the user provided value |\n",
        "\n",
        "Details of the optional parameters for the Species endpoint\n",
        "\n",
        "{$\\dagger$} If both *mass_min* and *it mass_max* are provided, the difference (*mass_max*-*mass_min*) is checked to be positive. An error message is returned if the difference is negative.\n",
        "\n",
        "{$\\star$} If both *charge_min* and *charge_max* are provided, the difference (*charge_max*-*charge_min*) is checked to be positive. An error message is returned if the difference is negative.\n",
        "\n",
        "\n",
        "\n",
        "---\n",
        "\n"
      ],
      "metadata": {
        "id": "4b1esfgs3eVa"
      }
    },
    {
      "cell_type": "markdown",
      "source": [
        "\n",
        "\n",
        "---\n",
        "\n",
        "\n",
        "- **merged_fields_vals** - [https://species.vamdc.org/web-service/api/v12.07/species/merged_fields_vals](https://species.vamdc.org/web-service/api/v12.07/species/merged_fields_vals), which resolves to a Json list that is the concatenation, for all the indexed species, of the fields *stoichiometricFormula, formula, name, InChi, InChiKey*.\n",
        "\n",
        "\n",
        "- **excelDump** - [https://species.vamdc.org/web-service/api/v12.07/excelDump](https://species.vamdc.org/web-service/api/v12.07/excelDump) which resolves to a timestamped Excel file containing a dump of all the data from the Species Database. This file is composed of two tabs, one for the *data-nodes* and the other for the species.\n",
        "\n",
        "\n",
        "---\n",
        "\n"
      ],
      "metadata": {
        "id": "ls4s8UNe9Veg"
      }
    },
    {
      "cell_type": "markdown",
      "source": [
        "\n",
        "\n",
        "---\n",
        "\n",
        "\n",
        "\n",
        "![Unknown.png](data:image/png;base64,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)\n",
        "# Travaux pratiques\n",
        "\n",
        "\n",
        "\n",
        "1.   Let's have some information on the nodes:\n",
        "\n",
        "  a. Is Nicolas in charge of any node? If yes, which one(s)?\n",
        "\n",
        "  b. Is Carlo in charge of any node? If yes, which one(s)?  \n",
        "\n",
        "\n",
        "2.   Let us search for some chemical species (ex. *Carbon Monoxide* - but you can choose your favourite chemical species)\n",
        "\n",
        "  a. What are the unique identifiers (InChi/InChiKey) associated with this species? (there may be several ones)\n",
        "\n",
        "  b. In which database could you find data associated with this species? (use the InChi/InChiKey in your query)\n",
        "\n",
        "\n",
        "3.   Get some spectrpscopic (or rhovibrational) data from the VAMDC infrastructure about the species you have chosen (some good inspiration at https://github.com/cmzwolf/JupyterVAMDCPortal/blob/main/portalTest.ipynb)\n"
      ],
      "metadata": {
        "id": "_rnNQj86AQWU"
      }
    },
    {
      "cell_type": "code",
      "source": [
        "# 1.a and 1.b\n",
        "import json\n",
        "import urllib.request\n",
        "\n",
        "urlNode = 'https://species.vamdc.org/web-service/api/v12.07/nodes'\n",
        "responseNode = urllib.request.urlopen(urlNode)\n",
        "json_list = responseNode.read()\n",
        "\n",
        "nodes_list = json.loads(json_list)\n",
        "\n",
        "nodes_nicolas = []\n",
        "nodes_carlo = []\n",
        "\n",
        "for node in nodes_list:\n",
        "  if node[\"contactEmail\"].find(\"nicolas\") !=-1:\n",
        "    nodes_nicolas.append(node)\n",
        "\n",
        "  if node[\"contactEmail\"].find(\"carlo\") !=-1:\n",
        "    nodes_carlo.append(node)\n",
        "\n",
        "print(\"Nicolas is in charge of \"+str(len(nodes_nicolas))+\" nodes\")\n",
        "for node in nodes_nicolas:\n",
        "    print(node)\n",
        "\n",
        "print(\"Carlo is in charge of \"+str(len(nodes_carlo))+\" nodes\")\n",
        "for node in nodes_carlo:\n",
        "    print(node)"
      ],
      "metadata": {
        "colab": {
          "base_uri": "https://localhost:8080/"
        },
        "id": "4RWOiUGuYG1n",
        "outputId": "79cbf922-43e1-4146-bee0-e7db1c6804de"
      },
      "execution_count": 61,
      "outputs": [
        {
          "output_type": "stream",
          "name": "stdout",
          "text": [
            "Nicolas is in charge of 2 nodes\n",
            "{'shortName': 'TIPbase : VAMDC-TAP interface', 'description': '', 'contactEmail': 'nicolas.moreau@obspm.fr - franck.delahaye@obspm.fr', 'ivoIdentifier': 'ivo://vamdc/TIPbase/tap-xsams', 'referenceUrl': 'http://cdsweb.u-strasbg.fr/tipbase/home.html', 'lastUpdate': '2024-03-05 15:19:41', 'topics': ['Atomic states', 'Atoms', 'Collisions']}\n",
            "{'shortName': 'TOPbase : VAMDC-TAP interface', 'description': '', 'contactEmail': 'nicolas.moreau@obspm.fr - franck.delahaye@obspm.fr', 'ivoIdentifier': 'ivo://vamdc/TOPbase/tap-xsams', 'referenceUrl': 'http://cdsweb.u-strasbg.fr/topbase/topbase.html', 'lastUpdate': '2024-03-05 15:19:41', 'topics': ['Atomic states', 'Atoms', 'Cross sections', 'Radiative transitions']}\n",
            "Carlo is in charge of 0 nodes\n"
          ]
        }
      ]
    },
    {
      "cell_type": "code",
      "source": [
        "# 2.a and 2.b\n",
        "\n",
        "url = \"http://species.vamdc.org/web-service/api/v12.07/species?text_search=CO\"\n",
        "response = urllib.request.urlopen(url)\n",
        "json_string  = response.read()\n",
        "\n",
        "\n",
        "# Convert JSON string to Python dictionary\n",
        "data_dict = json.loads(json_string)\n",
        "\n",
        "print(\"the species is present in the following databases : \")\n",
        "for node_name in data_dict.keys():\n",
        "  print(node_name)\n",
        "\n",
        "species_list = []\n",
        "inchis_list = []\n",
        "\n",
        "for items in data_dict.items():\n",
        "  for data in items:\n",
        "    for datum in data:\n",
        "      if str(datum).find(\"InChI\") != -1:\n",
        "        species_list.append(datum)\n",
        "\n",
        "\n",
        "inchi_list = []\n",
        "inchiKey_list = []\n",
        "\n",
        "for species in species_list:\n",
        "\n",
        "  inchi_list.append(species['InChI'])\n",
        "  inchiKey_list.append(species['InChIKey'])\n",
        "\n",
        "inchi_list = list(dict.fromkeys(inchi_list))\n",
        "inchiKey_list = list(dict.fromkeys(inchiKey_list))\n",
        "\n",
        "print(inchiKey_list)\n",
        "print(inchi_list)"
      ],
      "metadata": {
        "colab": {
          "base_uri": "https://localhost:8080/"
        },
        "id": "XPmvhldjF8bX",
        "outputId": "4349c3a5-1c1b-4a31-f13e-aa34135eca38"
      },
      "execution_count": 62,
      "outputs": [
        {
          "output_type": "stream",
          "name": "stdout",
          "text": [
            "the species is present in the following databases : \n",
            "ivo://vamdc/vald/uu/django\n",
            "ivo://vamdc/vald-Moscow\n",
            "ivo://vamdc/stark-b/tap-xsams\n",
            "ivo://vamdc/TIPbase/tap-xsams\n",
            "ivo://vamdc/chianti/django\n",
            "ivo://vamdc/sesam/tap-xsams\n",
            "ivo://vamdc/basecol2015/vamdc-tap\n",
            "ivo://vamdc/cdms/vamdc-tap_12.07\n",
            "ivo://vamdc/JPLdev\n",
            "ivo://vamdc/ghosst\n",
            "ivo://vamdc/OACatania/LASP\n",
            "ivo://vamdc/wadis/vamdc-tap\n",
            "ivo://vamdc/jpl/vamdc-tap_12.07\n",
            "ivo://vamdc/kida/vamdc-tap_12.07\n",
            "ivo://vamdc/hitran/vamdc-working\n",
            "['GUTLYIVDDKVIGB-UHFFFAOYSA-N', 'BFVNPAKTAJENJQ-UHFFFAOYSA-N', 'XLJKHNWPARRRJB-UHFFFAOYSA-N', 'JAWGVVJVYSANRY-UHFFFAOYSA-N', 'DLKQCLIBMWAKOH-UHFFFAOYSA-N', 'HIPRDHDOPNHLNS-UHFFFAOYSA-N', 'CPJVWFGOFJACDK-UHFFFAOYSA-N', 'CQINNYJWDCWSKG-UHFFFAOYSA-N', 'KCHMYYUULZBTKV-UHFFFAOYSA-N', 'KGGWDEWZJNTMOV-UHFFFAOYSA-N', 'NCZZELKKYCSBRY-UHFFFAOYSA-N', 'PFERICUJODPHPW-UHFFFAOYSA-N', 'JCTIBPLCMVCXMM-UHFFFAOYSA-N', 'GKQVVJZOLXODQK-UHFFFAOYSA-N', 'BFAKWOBGGXPNGH-UHFFFAOYSA-N', 'DJPFKTLFIKKCHM-UHFFFAOYSA-N', 'UEEIPMNYMRWJRG-UHFFFAOYSA-N', 'GPTBMEAGFPKLAR-UHFFFAOYSA-N', 'FWXZDSSSNJBPGE-UHFFFAOYSA-N', 'NRRWWIRRAYARER-UHFFFAOYSA-N', 'SXCRQWJMYMSQLW-UHFFFAOYSA-N', 'SJLLBPZWKFWGBE-UHFFFAOYSA-N', 'YDTMNKPNEUKRLN-UHFFFAOYSA-N', 'HAVSMERGYFSWOC-UHFFFAOYSA-N', 'SXJGHKWEHBUJJQ-UHFFFAOYSA-N', 'GUAJBVANPAZJCJ-UHFFFAOYSA-N', 'MKPXPQPFJBGLCS-UHFFFAOYSA-N', 'UGFAIRIUMAVXCW-UHFFFAOYSA-N', 'UGFAIRIUMAVXCW-OUBTZVSYSA-N', 'UGFAIRIUMAVXCW-VQEHIDDOSA-N', 'UGFAIRIUMAVXCW-HQMMCQRPSA-N', 'UGFAIRIUMAVXCW-ZDOIIHCHSA-N', 'UGFAIRIUMAVXCW-RGIGPVFXSA-N', 'UGFAIRIUMAVXCW-NJFSPNSNSA-N', 'UGFAIRIUMAVXCW-XPULMUKRSA-N']\n"
          ]
        }
      ]
    },
    {
      "cell_type": "markdown",
      "source": [
        "![images.jpeg](data:image/jpeg;base64,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)"
      ],
      "metadata": {
        "id": "OX9i1yZ-FjOB"
      }
    },
    {
      "cell_type": "markdown",
      "source": [
        "# Really?\n",
        "Check the mass number..."
      ],
      "metadata": {
        "id": "SL-PlsXwEpkJ"
      }
    },
    {
      "cell_type": "code",
      "source": [
        "for species in species_list:\n",
        "  print(species['massNumber'])"
      ],
      "metadata": {
        "colab": {
          "base_uri": "https://localhost:8080/"
        },
        "id": "Fe7sLe2NFlj8",
        "outputId": "22be7415-b39a-46c3-d4e6-76a5cd90d533"
      },
      "execution_count": 63,
      "outputs": [
        {
          "output_type": "stream",
          "name": "stdout",
          "text": [
            "59.0\n",
            "59.0\n",
            "59.0\n",
            "59.0\n",
            "59.0\n",
            "59.0\n",
            "59.0\n",
            "59.0\n",
            "59.0\n",
            "59.0\n",
            "59.0\n",
            "59.0\n",
            "59.0\n",
            "59.0\n",
            "59.0\n",
            "59.0\n",
            "59.0\n",
            "59.0\n",
            "59.0\n",
            "59.0\n",
            "59.0\n",
            "59.0\n",
            "59.0\n",
            "59.0\n",
            "59.0\n",
            "59.0\n",
            "59.0\n",
            "59.0\n",
            "59.0\n",
            "59.0\n",
            "59.0\n",
            "59.0\n",
            "59.0\n",
            "59.0\n",
            "59.0\n",
            "59.0\n",
            "59.0\n",
            "59.0\n",
            "59.0\n",
            "59.0\n",
            "59.0\n",
            "59.0\n",
            "59.0\n",
            "59.0\n",
            "59.0\n",
            "59.0\n",
            "59.0\n",
            "59.0\n",
            "59.0\n",
            "59.0\n",
            "59.0\n",
            "59.0\n",
            "59.0\n",
            "59.0\n",
            "28.0\n",
            "28.0\n",
            "28.0\n",
            "29.0\n",
            "29.0\n",
            "30.0\n",
            "30.0\n",
            "31.0\n",
            "28.0\n",
            "29.0\n",
            "29.0\n",
            "30.0\n",
            "28.0\n",
            "30.0\n",
            "31.0\n",
            "28.0\n",
            "28.0\n",
            "29.0\n",
            "29.0\n",
            "30.0\n",
            "30.0\n",
            "30.0\n",
            "31.0\n",
            "32.0\n",
            "28.0\n",
            "29.0\n",
            "29.0\n",
            "30.0\n",
            "28.0\n",
            "29.0\n",
            "28.0\n",
            "29.0\n",
            "29.0\n",
            "30.0\n",
            "30.0\n",
            "31.0\n"
          ]
        }
      ]
    },
    {
      "cell_type": "markdown",
      "source": [
        "\n",
        "![2bpdap.jpg](data:image/jpeg;base64,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)\n",
        "\n",
        "What can we do?"
      ],
      "metadata": {
        "id": "Ca5Ix60hGL_H"
      }
    },
    {
      "cell_type": "markdown",
      "source": [
        "Let us use mass number to remove cobalt from our results! Two ways:\n",
        "\n",
        "\n",
        "1.   Use \"species\" endpoint by specifying the maximal mass.\n",
        "2.   exclide the mass > 58 while building the list of inchi/inchikey.\n",
        "\n"
      ],
      "metadata": {
        "id": "KgqtYSmTGhsC"
      }
    },
    {
      "cell_type": "code",
      "source": [
        "url = \"https://species.vamdc.org/web-service/api/v12.07/species?text_search=CO&mass_max=58\"\n",
        "response = urllib.request.urlopen(url)\n",
        "json_string  = response.read()\n",
        "\n",
        "\n",
        "# Convert JSON string to Python dictionary\n",
        "data_dict = json.loads(json_string)\n",
        "\n",
        "print(\"the species is present in the following databases : \")\n",
        "for node_name in data_dict.keys():\n",
        "  print(node_name)\n",
        "\n",
        "species_list = []\n",
        "inchis_list = []\n",
        "\n",
        "for items in data_dict.items():\n",
        "  for data in items:\n",
        "    for datum in data:\n",
        "      if str(datum).find(\"InChI\") != -1:\n",
        "        species_list.append(datum)\n",
        "\n",
        "\n",
        "inchi_list = []\n",
        "inchiKey_list = []\n",
        "\n",
        "for species in species_list:\n",
        "\n",
        "  inchi_list.append(species['InChI'])\n",
        "  inchiKey_list.append(species['InChIKey'])\n",
        "\n",
        "inchi_list = list(dict.fromkeys(inchi_list))\n",
        "inchiKey_list = list(dict.fromkeys(inchiKey_list))\n",
        "\n",
        "print(inchiKey_list)\n",
        "print(inchi_list)"
      ],
      "metadata": {
        "colab": {
          "base_uri": "https://localhost:8080/"
        },
        "id": "6vyY98OaIMOk",
        "outputId": "63925f58-eb2b-4573-e4e8-ce0e0aba8a27"
      },
      "execution_count": 64,
      "outputs": [
        {
          "output_type": "stream",
          "name": "stdout",
          "text": [
            "the species is present in the following databases : \n",
            "ivo://vamdc/sesam/tap-xsams\n",
            "ivo://vamdc/basecol2015/vamdc-tap\n",
            "ivo://vamdc/cdms/vamdc-tap_12.07\n",
            "ivo://vamdc/JPLdev\n",
            "ivo://vamdc/ghosst\n",
            "ivo://vamdc/OACatania/LASP\n",
            "ivo://vamdc/wadis/vamdc-tap\n",
            "ivo://vamdc/jpl/vamdc-tap_12.07\n",
            "ivo://vamdc/kida/vamdc-tap_12.07\n",
            "ivo://vamdc/hitran/vamdc-working\n",
            "['UGFAIRIUMAVXCW-UHFFFAOYSA-N', 'UGFAIRIUMAVXCW-OUBTZVSYSA-N', 'UGFAIRIUMAVXCW-VQEHIDDOSA-N', 'UGFAIRIUMAVXCW-HQMMCQRPSA-N', 'UGFAIRIUMAVXCW-ZDOIIHCHSA-N', 'UGFAIRIUMAVXCW-RGIGPVFXSA-N', 'UGFAIRIUMAVXCW-NJFSPNSNSA-N', 'UGFAIRIUMAVXCW-XPULMUKRSA-N']\n",
            "['InChI=1S/CO/c1-2', 'InChI=1S/CO/c1-2/i1+1', 'InChI=1S/CO/c1-2/i2+1', 'InChI=1S/CO/c1-2/i2+2', 'InChI=1S/CO/c1-2/i1+1,2+1', 'InChI=1S/CO/c1-2/i1+1,2+2', 'InChI=1S/CO/c1-2/i1+2', 'InChI=1S/CO/c1-2/i1+2,2+2']\n"
          ]
        }
      ]
    },
    {
      "cell_type": "code",
      "source": [
        "for species in species_list:\n",
        "  print(species['massNumber'])"
      ],
      "metadata": {
        "colab": {
          "base_uri": "https://localhost:8080/"
        },
        "id": "5apmYJENLR8U",
        "outputId": "83ae1e4b-67a5-48ec-aeca-78199b48c81b"
      },
      "execution_count": 65,
      "outputs": [
        {
          "output_type": "stream",
          "name": "stdout",
          "text": [
            "28.0\n",
            "28.0\n",
            "28.0\n",
            "29.0\n",
            "29.0\n",
            "30.0\n",
            "30.0\n",
            "31.0\n",
            "28.0\n",
            "29.0\n",
            "29.0\n",
            "30.0\n",
            "28.0\n",
            "30.0\n",
            "31.0\n",
            "28.0\n",
            "28.0\n",
            "29.0\n",
            "29.0\n",
            "30.0\n",
            "30.0\n",
            "30.0\n",
            "31.0\n",
            "32.0\n",
            "28.0\n",
            "29.0\n",
            "29.0\n",
            "30.0\n",
            "28.0\n",
            "29.0\n",
            "28.0\n",
            "29.0\n",
            "29.0\n",
            "30.0\n",
            "30.0\n",
            "31.0\n"
          ]
        }
      ]
    },
    {
      "cell_type": "markdown",
      "source": [
        "For question 3, just follow https://github.com/cmzwolf/JupyterVAMDCPortal/blob/main/portalTest.ipynb"
      ],
      "metadata": {
        "id": "HcP9-xAvTNlw"
      }
    },
    {
      "cell_type": "markdown",
      "source": [],
      "metadata": {
        "id": "zmol58r-TZOZ"
      }
    }
  ]
}