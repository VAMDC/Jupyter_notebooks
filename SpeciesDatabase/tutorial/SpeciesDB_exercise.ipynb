{
  "nbformat": 4,
  "nbformat_minor": 0,
  "metadata": {
    "colab": {
      "provenance": [],
      "include_colab_link": true
    },
    "kernelspec": {
      "name": "python3",
      "display_name": "Python 3"
    },
    "language_info": {
      "name": "python"
    }
  },
  "cells": [
    {
      "cell_type": "markdown",
      "metadata": {
        "id": "view-in-github",
        "colab_type": "text"
      },
      "source": [
        "<a href=\"https://colab.research.google.com/github/VAMDC/Jupyter_notebooks/blob/main/SpeciesDatabase/tutorial/SpeciesDB_solution.ipynb\" target=\"_parent\"><img src=\"https://colab.research.google.com/assets/colab-badge.svg\" alt=\"Open In Colab\"/></a>"
      ]
    },
    {
      "cell_type": "markdown",
      "source": [
        "![site-logo-223x68.png](data:image/png;base64,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)\n",
        "\n",
        "# Python interaction with the VAMDC species database\n",
        "\n",
        "In this notebook we'll look at how to interact with the VAMDC infrastructure to retrieve atomic and chemical information.\n",
        "\n",
        "To to this, let us define the different REST-API endpoints:\n"
      ],
      "metadata": {
        "id": "PAUkcQawdZwe"
      }
    },
    {
      "cell_type": "markdown",
      "source": [
        "\n",
        "\n",
        "---\n",
        "\n",
        "\n",
        "- **metadata** - [https://species.vamdc.org/web-service/api/v12.07/metadata](https://species.vamdc.org/web-service/api/v12.07/metadata), which resolves to a Json object containing some statistics: the number of active *data-nodes* (i.e. the number of VAMDC federated databases that have been tagged as valid during the curation phase), the date of the most recent execution of the ingestion script, the total number of unique species indexed in the Species Database.\n",
        "    ```json\n",
        "    {\n",
        "     \"nodesCount\": \"33\",\n",
        "     \"lastUpdate\": \"2023-11-20\",\n",
        "     \"speciesCount\": \"2770\"\n",
        "    }\n",
        "    ```\n",
        "    \n",
        "\n",
        "---\n",
        "\n",
        "\n"
      ],
      "metadata": {
        "id": "kbtYWh4y74Jf"
      }
    },
    {
      "cell_type": "markdown",
      "source": [
        "\n",
        "\n",
        "---\n",
        "\n",
        "\n",
        "- **nodes** - [https://species.vamdc.org/web-service/api/v12.07/nodes](https://species.vamdc.org/web-service/api/v12.07/nodes), which resolves to a JSON list containing the *data-node* information stored in the Species Database. An example of the structure of the output produced by this service is provided in the following listing, which displays information for the Basecol *data-node*: *shortName* is the human-readable name of the *data-node*, *description* is its concise description, *contactEmail* is the e-mail of its technical maintainer, *ivoIdentifier* is its IVOID (cf. Table 1), *referenceUrl* is the link to the official database website, and *lastUpdate* is the date of the most recent execution of the ingestion script, which updates the information and builds the list of *topics*. We recall that the information for this example is extracted from the Basecol Registry entry during the ingestion phase.\n",
        "    ```json\n",
        "   [\n",
        "    {\n",
        "        \"shortName\": \"BASECOL2015: VAMDC-TAP interface\",\n",
        "        \"description\": \"\",\n",
        "        \"contactEmail\": \"yaye-awa.ba[at]obspm[dot]fr\",\n",
        "        \"ivoIdentifier\": \"ivo://vamdc/basecol2015/vamdc-tap\",\n",
        "        \"referenceUrl\": \"https://basecol.vamdc.org/\",\n",
        "        \"lastUpdate\": \"2023-11-20 03:00:10\",\n",
        "        \"topics\": [\n",
        "            \"Atomic states\",\n",
        "            \"Atoms\",\n",
        "            \"Collisions\",\n",
        "            \"Molecular states\",\n",
        "            \"Molecules\"\n",
        "        ]\n",
        "    },\n",
        "    ...\n",
        "   ]\n",
        "  \n",
        "\n",
        "---\n",
        "\n"
      ],
      "metadata": {
        "id": "eEgnIRLe87OB"
      }
    },
    {
      "cell_type": "markdown",
      "source": [
        "\n",
        "\n",
        "---\n",
        "\n",
        "\n",
        "\n",
        "- **species** - [https://species.vamdc.org/web-service/api/v12.07/species](https://species.vamdc.org/web-service/api/v12.07/species), which resolves to a Json list containing all the species gathered from all the federated databases. The following listing  gives an example of the structure of the produced output, obtained while hitting this endpoint:\n",
        "\n",
        "    - each text strings starting with *ivo* is a *data-node* unique identifier. We naturally use the same node-identifiers defined into the VAMDC registry.\n",
        "    - The value associated with each *data-node* identifier is the list of the chemical species for which there is (or there have been) data available in the *data-node*.\n",
        "    - The description of each chemical species consists of its InchI/InChIKey, its stoichiometric formula and formula (this last field is null for atoms and consists of a string notation that shows the isotopes and number of atoms in a molecule), mass number, species type (this field may take one of the three *atom, molecule, particle* values), electric charge, species name (in natural language). The two dates associated with the field *lastSeenDateTime* are respectively the last time the ingestion script has been executed and the last time the species was available in the *data-node*. Indeed, some data may be deleted/changed inside *data-nodes* and, as a consequence, some chemical species may no longer be available. The Species Database keeps track of the availability of all the species over time.\n",
        "\n",
        "\n",
        "```json\n",
        " \"ivo://vamdc/amdis-ionization\": [\n",
        "        {\n",
        "            \"InChI\": \"InChI=1S/H/q-1\",\n",
        "            \"InChIKey\": \"KLGZELKXQMTEMM-UHFFFAOYSA-N\",\n",
        "            \"stoichiometricFormula\": \"H\",\n",
        "            \"massNumber\": 1,\n",
        "            \"charge\": -1,\n",
        "            \"speciesType\": \"atom\",\n",
        "            \"formula\": \"None\",\n",
        "            \"name\": \"Hydrogen negative ion -1\",\n",
        "            \"did\": \"KLGZELKXQMTEMM-UHFFFAOYSA-N\",\n",
        "            \"lastSeenDateTime\": \"2023-11-20 $\\mid \\mid$ 2023-11-20\"\n",
        "        },  \n",
        "        {\n",
        "            ...\n",
        "        }\n",
        "    ],\n",
        "    \"ivo://vamdc/sesam/tap-xsams\": [\n",
        "        {\n",
        "            \"InChI\": \"InChI=1S/H2/h1H\",\n",
        "            \"InChIKey\": \"UFHFLCQGNIYNRP-UHFFFAOYSA-N\",\n",
        "            \"stoichiometricFormula\": \"H2\",\n",
        "            \"massNumber\": 2,\n",
        "            \"charge\": 0,\n",
        "            \"speciesType\": \"molecule\",\n",
        "            \"formula\": \"H2\",\n",
        "            \"name\": \"Dihydrogen\\n\",\n",
        "            \"did\": \"UFHFLCQGNIYNRP-UHFFFAOYSA-N\",\n",
        "            \"lastSeenDateTime\": \"2023-11-20 $\\mid \\mid$ 2023-11-20\"\n",
        "        },\n",
        "        {\n",
        "            ...\n",
        "        }\n",
        "    ]    \n",
        "    }\n",
        "```\n",
        "\n",
        "The **species** endpoint may take some additional parameters to refine the\n",
        "\n",
        "search and filter the results. The following table describes those searching parameters, along with the operation they induce on the behavior of the API. The refined API-call may be composed as follows:\n",
        "\n",
        "[https://species.vamdc.org/web-service/api/v12.07/species?P_1=V_1&P_2=V_2&...&P_N=V_N](https://species.vamdc.org/web-service/api/v12.07/species?P_1=V_1&P_2=V_2&...&P_N=V_N) , where:\n",
        "\n",
        "- $N \\in [0,11]$. The value $0$ means that no optional parameter is provided. The value $11$ is the number of rows of [SpeciesParams]the following table and $N=11$ means that all the optional parameters are provided.\n",
        "- $P_i$, $i \\in [1,N]$ for $N \\ge 1$, is the parameter at the $i^{th}$ row of the following table.\n",
        "- $V_i$ is the value taken by $P_i$. It must satisfy the constraint expressed in the second column of the following table at row $i$.\n",
        "\n",
        "| Parameter              | Authorized type/values                | API functionality                                                                                                      |\n",
        "|------------------------|---------------------------------------|------------------------------------------------------------------------------------------------------------------------|\n",
        "| stoichiometric_formula | String                                | Restriction to the results where the stoichiometric formula is equal to the user provided value                        |\n",
        "| mass_min               | Positive Integer                      | Restriction to the results having $massNumber \\geq mass\\_min$ {$^\\dagger$}                                               |\n",
        "| mass_max               | Positive Integer                      | Restriction to the results having $massNumber \\leq mass\\_max$ {$^\\dagger$}                                               |\n",
        "| charge_min             | Integer                               | Restriction to the results having $charge \\geq charge\\_min$ {$^\\star$}                                                   |\n",
        "| charge_max             | Integer                               | Restriction to the results having $charge \\leq charge\\_max$ {$^\\star$}                                                   |\n",
        "| type                   | String $\\in \\mathcal S :=\\{$ \"atom\", \"molecule\", \"particle\" $\\}$ | Restriction the results where the {\\it type} is equal to the user provided value. If the provided string $s \\notin \\mathcal S$, a JSON object describing the error is returned |\n",
        "| ivo_identifier         | String                                | Restriction to the results having the {\\it data-node} identifier (IVOID) equal to the user provided value              |\n",
        "| inchikey               | String                                | Restriction to the results where having the {\\it InChIKey} equal to the user provided value                            |\n",
        "| name                   | String                                | Restriction to the results where having the {\\it name} equal to the user provided value                                 |\n",
        "| formula                | String                                | Restriction to the results where having the {\\it formula} equal to the user provided value                              |\n",
        "| text_search            | String                                | Restriction to the results having at least a portion of one of the five fields {\\it stoichiometric_formula, formula, name, InChi, inchikey} equal to the user provided value |\n",
        "\n",
        "Details of the optional parameters for the Species endpoint\n",
        "\n",
        "{$\\dagger$} If both *mass_min* and *it mass_max* are provided, the difference (*mass_max*-*mass_min*) is checked to be positive. An error message is returned if the difference is negative.\n",
        "\n",
        "{$\\star$} If both *charge_min* and *charge_max* are provided, the difference (*charge_max*-*charge_min*) is checked to be positive. An error message is returned if the difference is negative.\n",
        "\n",
        "\n",
        "\n",
        "---\n",
        "\n"
      ],
      "metadata": {
        "id": "4b1esfgs3eVa"
      }
    },
    {
      "cell_type": "markdown",
      "source": [
        "\n",
        "\n",
        "---\n",
        "\n",
        "\n",
        "- **merged_fields_vals** - [https://species.vamdc.org/web-service/api/v12.07/species/merged_fields_vals](https://species.vamdc.org/web-service/api/v12.07/species/merged_fields_vals), which resolves to a Json list that is the concatenation, for all the indexed species, of the fields *stoichiometricFormula, formula, name, InChi, InChiKey*.\n",
        "\n",
        "\n",
        "- **excelDump** - [https://species.vamdc.org/web-service/api/v12.07/excelDump](https://species.vamdc.org/web-service/api/v12.07/excelDump) which resolves to a timestamped Excel file containing a dump of all the data from the Species Database. This file is composed of two tabs, one for the *data-nodes* and the other for the species.\n",
        "\n",
        "\n",
        "---\n",
        "\n"
      ],
      "metadata": {
        "id": "ls4s8UNe9Veg"
      }
    },
    {
      "cell_type": "markdown",
      "source": [
        "\n",
        "\n",
        "---\n",
        "\n",
        "\n",
        "\n",
        "![Unknown.png](data:image/png;base64,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)\n",
        "# Travaux pratiques\n",
        "\n",
        "\n",
        "\n",
        "1.   Let's have some information on the nodes:\n",
        "\n",
        "  a. Is Nicolas in charge of any node? If yes, which one(s)?\n",
        "\n",
        "  b. Is Carlo in charge of any node? If yes, which one(s)?  \n",
        "\n",
        "\n",
        "2.   Let us search for some chemical species (ex. *Carbon Monoxide* - but you can choose your favourite chemical species)\n",
        "\n",
        "  a. What are the unique identifiers (InChi/InChiKey) associated with this species? (there may be several ones)\n",
        "\n",
        "  b. In which database could you find data associated with this species? (use the InChi/InChiKey in your query)\n",
        "\n",
        "\n",
        "3.   Get some spectrpscopic (or rhovibrational) data from the VAMDC infrastructure about the species you have chosen (some good inspiration at https://github.com/cmzwolf/JupyterVAMDCPortal/blob/main/portalTest.ipynb)\n"
      ],
      "metadata": {
        "id": "_rnNQj86AQWU"
      }
    }
  ]
}
